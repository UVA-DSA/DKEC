{
 "cells": [
  {
   "cell_type": "markdown",
   "id": "002325f5",
   "metadata": {},
   "source": [
    "The script is used to clean MIMIC-III dataset, \n",
    "* remove procedure codes in MIMIC-III dataset\n",
    "* nan label in MIMIC-III dataset\n",
    "* labels not appearing in description text"
   ]
  },
  {
   "cell_type": "code",
   "execution_count": 15,
   "id": "c232fc43",
   "metadata": {},
   "outputs": [],
   "source": [
    "import numpy as np\n",
    "import pandas as pd\n",
    "from tqdm import tqdm\n",
    "\n",
    "from collections import Counter, defaultdict\n",
    "import csv\n",
    "import math\n",
    "import operator\n",
    "import json\n",
    "import pandas as pd\n",
    "import os"
   ]
  },
  {
   "cell_type": "markdown",
   "id": "98899cd8",
   "metadata": {},
   "source": [
    "### Load Dataset"
   ]
  },
  {
   "cell_type": "code",
   "execution_count": 16,
   "id": "8b8c4641",
   "metadata": {},
   "outputs": [],
   "source": [
    "### root of this paper ###\n",
    "save_path = '../dataset/MIMIC3'\n",
    "\n",
    "with open(os.path.join(save_path, 'ICD9CODES.json'), 'r') as f:\n",
    "    label2desc = json.load(f)\n",
    "label = list(label2desc.keys())\n",
    "\n",
    "with open(os.path.join(save_path, 'ICD9_descriptions.json'), 'r') as f:\n",
    "    ICD9_desc = json.load(f)"
   ]
  },
  {
   "cell_type": "code",
   "execution_count": 17,
   "id": "a4ca2670",
   "metadata": {},
   "outputs": [],
   "source": [
    "### root of caml-mimic-master/mimicdata/mimic3 ###\n",
    "MIMIC_3_DIR = 'your root/caml-mimic-master/mimicdata/mimic3'\n",
    "\n",
    "train = pd.read_csv(os.path.join(MIMIC_3_DIR, 'train_full.csv'))\n",
    "val = pd.read_csv(os.path.join(MIMIC_3_DIR, 'dev_full.csv'))\n",
    "test = pd.read_csv(os.path.join(MIMIC_3_DIR, 'test_full.csv'))"
   ]
  },
  {
   "cell_type": "code",
   "execution_count": 18,
   "id": "517091e9",
   "metadata": {},
   "outputs": [
    {
     "name": "stdout",
     "output_type": "stream",
     "text": [
      "47723\n",
      "1631\n",
      "3372\n"
     ]
    }
   ],
   "source": [
    "print(len(train))\n",
    "print(len(val))\n",
    "print(len(test))"
   ]
  },
  {
   "cell_type": "markdown",
   "id": "ecf45882",
   "metadata": {},
   "source": [
    "### Get ICD9 procedure codes"
   ]
  },
  {
   "cell_type": "code",
   "execution_count": 20,
   "id": "8f86b097",
   "metadata": {},
   "outputs": [],
   "source": [
    "import sys\n",
    "### root of caml-mimic-master ###\n",
    "sys.path.append(MIMIC_3_DIR[:-17])\n",
    "import datasets\n",
    "import log_reg\n",
    "from dataproc import extract_wvs\n",
    "from dataproc import get_discharge_summaries\n",
    "from dataproc import concat_and_split\n",
    "from dataproc import build_vocab\n",
    "from dataproc import vocab_index_descriptions\n",
    "from dataproc import word_embeddings\n",
    "\n",
    "dfproc = pd.read_csv('%s/PROCEDURES_ICD.csv' % MIMIC_3_DIR)\n",
    "dfproc['absolute_code'] = dfproc.apply(lambda row: str(datasets.reformat(str(row[4]), False)), axis=1)\n",
    "proc_ICD9 = sorted(list(set(dfproc['absolute_code'].values)))"
   ]
  },
  {
   "cell_type": "markdown",
   "id": "afea518b",
   "metadata": {},
   "source": [
    "### Drop labels\n",
    "* caculate how many labels to be droped\n",
    "* drop and re-organize the dataframe"
   ]
  },
  {
   "cell_type": "code",
   "execution_count": 21,
   "id": "436be6e6",
   "metadata": {},
   "outputs": [
    {
     "name": "stdout",
     "output_type": "stream",
     "text": [
      "na label found in:  3368\n",
      "na label found in:  25712\n",
      "na label found in:  28087\n",
      "na label found in:  29322\n",
      "#labels to be drop:  2253\n",
      "#total labels:  8921\n"
     ]
    }
   ],
   "source": [
    "label_dict = dict()\n",
    "\n",
    "for i in range(len(train)):\n",
    "    labels = train['LABELS'][i]\n",
    "    if not pd.isna(labels):\n",
    "        for l in labels.split(';'):\n",
    "            label_dict[l] = label_dict.get(l, 0) + 1\n",
    "    else:\n",
    "        print('na label found in: ', i)\n",
    "        \n",
    "        \n",
    "for i in range(len(val)):\n",
    "    labels = val['LABELS'][i]\n",
    "    if not pd.isna(labels):\n",
    "        for l in labels.split(';'):\n",
    "            label_dict[l] = label_dict.get(l, 0) + 1\n",
    "    else:\n",
    "        print('na label found in: ', i)\n",
    "        \n",
    "        \n",
    "for i in range(len(test)):\n",
    "    labels = test['LABELS'][i]\n",
    "    if not pd.isna(labels):\n",
    "        for l in labels.split(';'):\n",
    "            label_dict[l] = label_dict.get(l, 0) + 1\n",
    "    else:\n",
    "        print('na label found in: ', i)\n",
    "        \n",
    "num = 0 \n",
    "drop_label = []\n",
    "for l, cnt in label_dict.items():\n",
    "    ### remove ICD9 codes don't have a description\n",
    "    ### remove the ICD9 procedure codes\n",
    "    if l not in ICD9_desc or l in proc_ICD9:\n",
    "        drop_label.append(l)\n",
    "        num += 1\n",
    "print('#labels to be drop: ', num)\n",
    "print('#total labels: ', len(label_dict.keys()))"
   ]
  },
  {
   "cell_type": "code",
   "execution_count": 22,
   "id": "b7d096ff",
   "metadata": {},
   "outputs": [
    {
     "name": "stderr",
     "output_type": "stream",
     "text": [
      "100%|█████████████████████████████████████████████████████████| 47723/47723 [00:06<00:00, 7517.43it/s]\n",
      "100%|███████████████████████████████████████████████████████████| 1631/1631 [00:00<00:00, 6579.63it/s]\n",
      "100%|███████████████████████████████████████████████████████████| 3372/3372 [00:00<00:00, 6311.65it/s]\n"
     ]
    }
   ],
   "source": [
    "def clean_df(df, drop_list):\n",
    "    df_ = []\n",
    "    for i in tqdm(range(len(df))):\n",
    "        sub_id = df['SUBJECT_ID'][i]\n",
    "        hadm_id = df['HADM_ID'][i]\n",
    "        text = df['TEXT'][i]\n",
    "        labels = df['LABELS'][i]\n",
    "        length = df['length'][i]\n",
    "        new_label = []\n",
    "        if not pd.isna(labels):\n",
    "            for l in labels.split(';'):\n",
    "                if l in drop_list or l in new_label:\n",
    "                    continue\n",
    "                else:\n",
    "                    new_label.append(l.strip())\n",
    "                string = ';'.join(new_label)\n",
    "        if new_label:\n",
    "            row = [sub_id, hadm_id, text, string, length]\n",
    "            df_.append(row)\n",
    "    return df_\n",
    "        \n",
    "\n",
    "clean_train_list = clean_df(train, drop_label)\n",
    "clean_val_list = clean_df(val, drop_label)\n",
    "clean_test_list = clean_df(test, drop_label)\n",
    "\n",
    "clean_train = pd.DataFrame(clean_train_list, columns=['SUBJECT_ID', 'HADM_ID', 'TEXT', 'LABELS', 'length'])\n",
    "clean_val = pd.DataFrame(clean_val_list, columns=['SUBJECT_ID', 'HADM_ID', 'TEXT', 'LABELS', 'length'])\n",
    "clean_test = pd.DataFrame(clean_test_list, columns=['SUBJECT_ID', 'HADM_ID', 'TEXT', 'LABELS', 'length'])\n",
    "\n",
    "clean_train.dropna(subset=['LABELS'], inplace=True)\n",
    "clean_train.reset_index(drop=True, inplace=True)\n",
    "clean_val.dropna(subset=['LABELS'], inplace=True)\n",
    "clean_val.reset_index(drop=True, inplace=True)\n",
    "clean_test.dropna(subset=['LABELS'], inplace=True)\n",
    "clean_test.reset_index(drop=True, inplace=True)"
   ]
  },
  {
   "cell_type": "markdown",
   "id": "241d0366",
   "metadata": {},
   "source": [
    "### sanity check"
   ]
  },
  {
   "cell_type": "code",
   "execution_count": 23,
   "id": "a26260bd",
   "metadata": {},
   "outputs": [],
   "source": [
    "clean_label_dict = dict()\n",
    "\n",
    "for i in range(len(clean_train)):\n",
    "    labels = clean_train['LABELS'][i]\n",
    "    if not pd.isna(labels):\n",
    "        for l in labels.split(';'):\n",
    "            clean_label_dict[l] = clean_label_dict.get(l, 0) + 1\n",
    "    else:\n",
    "        print(i)\n",
    "        \n",
    "        \n",
    "for i in range(len(clean_val)):\n",
    "    labels = clean_val['LABELS'][i]\n",
    "    if not pd.isna(labels):\n",
    "        for l in labels.split(';'):\n",
    "            clean_label_dict[l] = clean_label_dict.get(l, 0) + 1\n",
    "    else:\n",
    "        print(i)\n",
    "        \n",
    "        \n",
    "for i in range(len(clean_test)):\n",
    "    labels = clean_test['LABELS'][i]\n",
    "    if not pd.isna(labels):\n",
    "        for l in labels.split(';'):\n",
    "            clean_label_dict[l] = clean_label_dict.get(l, 0) + 1\n",
    "    else:\n",
    "        print(i)\n",
    "        \n",
    "assert len(clean_label_dict.keys()) == len(label_dict.keys()) - num"
   ]
  },
  {
   "cell_type": "markdown",
   "id": "b96859ae",
   "metadata": {},
   "source": [
    "### save_clean_train/val/test"
   ]
  },
  {
   "cell_type": "code",
   "execution_count": 24,
   "id": "bdd80536",
   "metadata": {},
   "outputs": [],
   "source": [
    "clean_train.to_csv(os.path.join(save_path, 'clean_train.csv'))\n",
    "clean_val.to_csv(os.path.join(save_path, 'clean_val.csv'))\n",
    "clean_test.to_csv(os.path.join(save_path, 'clean_test.csv'))"
   ]
  },
  {
   "cell_type": "code",
   "execution_count": 25,
   "id": "61fb125f",
   "metadata": {},
   "outputs": [
    {
     "data": {
      "text/html": [
       "<div>\n",
       "<style scoped>\n",
       "    .dataframe tbody tr th:only-of-type {\n",
       "        vertical-align: middle;\n",
       "    }\n",
       "\n",
       "    .dataframe tbody tr th {\n",
       "        vertical-align: top;\n",
       "    }\n",
       "\n",
       "    .dataframe thead th {\n",
       "        text-align: right;\n",
       "    }\n",
       "</style>\n",
       "<table border=\"1\" class=\"dataframe\">\n",
       "  <thead>\n",
       "    <tr style=\"text-align: right;\">\n",
       "      <th></th>\n",
       "      <th>SUBJECT_ID</th>\n",
       "      <th>HADM_ID</th>\n",
       "      <th>TEXT</th>\n",
       "      <th>LABELS</th>\n",
       "      <th>length</th>\n",
       "    </tr>\n",
       "  </thead>\n",
       "  <tbody>\n",
       "    <tr>\n",
       "      <th>0</th>\n",
       "      <td>158</td>\n",
       "      <td>169433</td>\n",
       "      <td>admission date discharge date date of birth se...</td>\n",
       "      <td>532.40;493.20;V45.81;412;401.9</td>\n",
       "      <td>51</td>\n",
       "    </tr>\n",
       "    <tr>\n",
       "      <th>1</th>\n",
       "      <td>2896</td>\n",
       "      <td>178124</td>\n",
       "      <td>name known lastname known firstname unit no nu...</td>\n",
       "      <td>211.3;427.31;578.9;560.1;496;584.9;428.0;276.5...</td>\n",
       "      <td>55</td>\n",
       "    </tr>\n",
       "    <tr>\n",
       "      <th>2</th>\n",
       "      <td>6495</td>\n",
       "      <td>139808</td>\n",
       "      <td>admission date discharge date date of birth se...</td>\n",
       "      <td>998.59;998.32;905.4;E929.0;041.85</td>\n",
       "      <td>60</td>\n",
       "    </tr>\n",
       "    <tr>\n",
       "      <th>3</th>\n",
       "      <td>3564</td>\n",
       "      <td>117638</td>\n",
       "      <td>admission date discharge date service doctor l...</td>\n",
       "      <td>038.49;041.6;785.59;518.81;507.0;592.1;591;276...</td>\n",
       "      <td>68</td>\n",
       "    </tr>\n",
       "    <tr>\n",
       "      <th>4</th>\n",
       "      <td>7995</td>\n",
       "      <td>190945</td>\n",
       "      <td>admission date discharge date date of birth se...</td>\n",
       "      <td>440.22;492.8;401.9;714.0</td>\n",
       "      <td>74</td>\n",
       "    </tr>\n",
       "    <tr>\n",
       "      <th>...</th>\n",
       "      <td>...</td>\n",
       "      <td>...</td>\n",
       "      <td>...</td>\n",
       "      <td>...</td>\n",
       "      <td>...</td>\n",
       "    </tr>\n",
       "    <tr>\n",
       "      <th>52716</th>\n",
       "      <td>96777</td>\n",
       "      <td>176399</td>\n",
       "      <td>admission date discharge date date of birth se...</td>\n",
       "      <td>480.1;996.85;780.39;117.7;204.01;117.3;078.5;2...</td>\n",
       "      <td>5890</td>\n",
       "    </tr>\n",
       "    <tr>\n",
       "      <th>52717</th>\n",
       "      <td>95323</td>\n",
       "      <td>142423</td>\n",
       "      <td>admission date discharge date date of birth se...</td>\n",
       "      <td>518.81;486;507.0;292.0;276.1;453.42;112.0;292....</td>\n",
       "      <td>6116</td>\n",
       "    </tr>\n",
       "    <tr>\n",
       "      <th>52718</th>\n",
       "      <td>91074</td>\n",
       "      <td>106110</td>\n",
       "      <td>admission date discharge date date of birth se...</td>\n",
       "      <td>486;518.81;584.9;518.0;491.21;428.32;112.2;276...</td>\n",
       "      <td>6117</td>\n",
       "    </tr>\n",
       "    <tr>\n",
       "      <th>52719</th>\n",
       "      <td>92316</td>\n",
       "      <td>158581</td>\n",
       "      <td>admission date discharge date date of birth se...</td>\n",
       "      <td>427.41;785.51;570;807.4;584.9;861.21;276.2;790...</td>\n",
       "      <td>6227</td>\n",
       "    </tr>\n",
       "    <tr>\n",
       "      <th>52720</th>\n",
       "      <td>93321</td>\n",
       "      <td>115396</td>\n",
       "      <td>admission date discharge date date of birth se...</td>\n",
       "      <td>205.00;484.7;518.81;570;038.0;567.81;995.92;34...</td>\n",
       "      <td>7109</td>\n",
       "    </tr>\n",
       "  </tbody>\n",
       "</table>\n",
       "<p>52721 rows × 5 columns</p>\n",
       "</div>"
      ],
      "text/plain": [
       "       SUBJECT_ID  HADM_ID                                               TEXT   \n",
       "0             158   169433  admission date discharge date date of birth se...  \\\n",
       "1            2896   178124  name known lastname known firstname unit no nu...   \n",
       "2            6495   139808  admission date discharge date date of birth se...   \n",
       "3            3564   117638  admission date discharge date service doctor l...   \n",
       "4            7995   190945  admission date discharge date date of birth se...   \n",
       "...           ...      ...                                                ...   \n",
       "52716       96777   176399  admission date discharge date date of birth se...   \n",
       "52717       95323   142423  admission date discharge date date of birth se...   \n",
       "52718       91074   106110  admission date discharge date date of birth se...   \n",
       "52719       92316   158581  admission date discharge date date of birth se...   \n",
       "52720       93321   115396  admission date discharge date date of birth se...   \n",
       "\n",
       "                                                  LABELS  length  \n",
       "0                         532.40;493.20;V45.81;412;401.9      51  \n",
       "1      211.3;427.31;578.9;560.1;496;584.9;428.0;276.5...      55  \n",
       "2                      998.59;998.32;905.4;E929.0;041.85      60  \n",
       "3      038.49;041.6;785.59;518.81;507.0;592.1;591;276...      68  \n",
       "4                               440.22;492.8;401.9;714.0      74  \n",
       "...                                                  ...     ...  \n",
       "52716  480.1;996.85;780.39;117.7;204.01;117.3;078.5;2...    5890  \n",
       "52717  518.81;486;507.0;292.0;276.1;453.42;112.0;292....    6116  \n",
       "52718  486;518.81;584.9;518.0;491.21;428.32;112.2;276...    6117  \n",
       "52719  427.41;785.51;570;807.4;584.9;861.21;276.2;790...    6227  \n",
       "52720  205.00;484.7;518.81;570;038.0;567.81;995.92;34...    7109  \n",
       "\n",
       "[52721 rows x 5 columns]"
      ]
     },
     "execution_count": 25,
     "metadata": {},
     "output_type": "execute_result"
    }
   ],
   "source": [
    "df = pd.concat([clean_train, clean_val, clean_test]).reset_index(drop=True)\n",
    "df"
   ]
  },
  {
   "cell_type": "markdown",
   "id": "5cd35ac1",
   "metadata": {},
   "source": [
    "### calculate label freq"
   ]
  },
  {
   "cell_type": "code",
   "execution_count": 26,
   "id": "d2ff8ccf",
   "metadata": {},
   "outputs": [],
   "source": [
    "def cnt_instance_per_label(df, column_name):\n",
    "    label_cnt = {}\n",
    "#     column_name = 'ICD9_DIAG'\n",
    "    for i in range(len(df)):\n",
    "        if type(df[column_name][i]) == float:\n",
    "            continue\n",
    "        ps = df[column_name][i].strip()\n",
    "        for p in ps.split(';'):\n",
    "            p = p.strip()\n",
    "            label_cnt[p] = label_cnt.get(p, 0) + 1\n",
    "    return label_cnt\n",
    "\n",
    "def sortBy(l1, l2, reverse=True):\n",
    "    x_axis, y_axis = [], []\n",
    "    if l1 and l2:\n",
    "        zipped = zip(l1, l2)\n",
    "        sort_zipped = sorted(zipped, key=lambda x:(x[1], x[0]), reverse=reverse)\n",
    "        result = zip(*sort_zipped)\n",
    "        x_axis, y_axis = [list(x) for x in result]\n",
    "    return x_axis, y_axis"
   ]
  },
  {
   "cell_type": "code",
   "execution_count": 27,
   "id": "1580a876",
   "metadata": {},
   "outputs": [],
   "source": [
    "label_cnt = cnt_instance_per_label(df, column_name='LABELS')\n",
    "total_num = list(label_cnt.values())\n",
    "ICD9CODE = list(label_cnt.keys())\n",
    "\n",
    "sort_ICD9CODE, sort_total_num = sortBy(ICD9CODE, total_num, reverse=True)\n",
    "\n",
    "sorted_label_cnt = {}\n",
    "for i in range(len(sort_ICD9CODE)):\n",
    "    code = sort_ICD9CODE[i]\n",
    "    num = sort_total_num[i]\n",
    "    sorted_label_cnt[code] = num\n",
    "\n",
    "with open(os.path.join(save_path, 'MIMIC3_Label_cnt.json'), 'w') as f:\n",
    "    json.dump(sorted_label_cnt, f, indent=4)"
   ]
  },
  {
   "cell_type": "markdown",
   "id": "737b9e5c",
   "metadata": {},
   "source": [
    "### Calculate everage number of disease in MIMIC3 dataset"
   ]
  },
  {
   "cell_type": "code",
   "execution_count": 28,
   "id": "623d5d7c",
   "metadata": {},
   "outputs": [
    {
     "data": {
      "text/plain": [
       "11.724151666318924"
      ]
     },
     "execution_count": 28,
     "metadata": {},
     "output_type": "execute_result"
    }
   ],
   "source": [
    "import pandas as pd\n",
    "import json\n",
    "import numpy as np\n",
    "import os\n",
    "\n",
    "\n",
    "clean_train = pd.read_csv(os.path.join(save_path, \"clean_train.csv\"))\n",
    "clean_val = pd.read_csv(os.path.join(save_path, \"clean_val.csv\"))\n",
    "clean_test = pd.read_csv(os.path.join(save_path, \"clean_test.csv\"))\n",
    "\n",
    "\n",
    "df = pd.concat([clean_train, clean_val, clean_test]).reset_index(drop=True)\n",
    "all_list_len = []\n",
    "for ls in df['LABELS']:\n",
    "    l_list = [l for l in ls.split(';')]\n",
    "    all_list_len.append(len(l_list))\n",
    "np.mean(all_list_len)"
   ]
  },
  {
   "cell_type": "markdown",
   "id": "faf37832",
   "metadata": {},
   "source": [
    "### label hierarchy dict"
   ]
  },
  {
   "cell_type": "code",
   "execution_count": 29,
   "id": "d92d6958",
   "metadata": {},
   "outputs": [],
   "source": [
    "from collections import defaultdict\n",
    "hierarchy2ICD9CODE = defaultdict(list)\n",
    "\n",
    "for ICD9_CODE, description in label2desc.items():\n",
    "    \n",
    "    if ICD9_CODE.startswith('E') or ICD9_CODE.startswith('V'):\n",
    "        hierarchy2ICD9CODE['external causes of injury and supplemental classification'].append(ICD9_CODE)\n",
    "    \n",
    "    else:\n",
    "        if 0 <= float(ICD9_CODE) < 140:\n",
    "            hierarchy2ICD9CODE['infectious and parasitic diseases'].append(ICD9_CODE)\n",
    "        elif 140 <= float(ICD9_CODE) < 240:\n",
    "            hierarchy2ICD9CODE['neoplasms'].append(ICD9_CODE)\n",
    "        elif 240 <= float(ICD9_CODE) < 280:\n",
    "            hierarchy2ICD9CODE['endocrine, nutritional and metabolic diseases, and immunity disorders'].append(ICD9_CODE)\n",
    "        elif 280 <= float(ICD9_CODE) < 290:\n",
    "            hierarchy2ICD9CODE['diseases of the blood and blood-forming organs'].append(ICD9_CODE)\n",
    "        elif 290 <= float(ICD9_CODE) < 320:\n",
    "            hierarchy2ICD9CODE['mental disorders'].append(ICD9_CODE)\n",
    "        elif 320 <= float(ICD9_CODE) < 390:\n",
    "            hierarchy2ICD9CODE['diseases of the nervous system and sense organs'].append(ICD9_CODE)\n",
    "        elif 390 <= float(ICD9_CODE) < 460:\n",
    "            hierarchy2ICD9CODE['diseases of the circulatory system'].append(ICD9_CODE)\n",
    "        elif 460 <= float(ICD9_CODE) < 520:\n",
    "            hierarchy2ICD9CODE['diseases of the respiratory system'].append(ICD9_CODE)\n",
    "        elif 520 <= float(ICD9_CODE) < 580:\n",
    "            hierarchy2ICD9CODE['diseases of the digestive system'].append(ICD9_CODE)\n",
    "        elif 580 <= float(ICD9_CODE) < 630:\n",
    "            hierarchy2ICD9CODE['diseases of the genitourinary system'].append(ICD9_CODE)\n",
    "        elif 630 <= float(ICD9_CODE) < 680:\n",
    "            hierarchy2ICD9CODE['complications of pregnancy, childbirth, and the puerperium'].append(ICD9_CODE)\n",
    "        elif 680 <= float(ICD9_CODE) < 710:\n",
    "            hierarchy2ICD9CODE['diseases of the skin and subcutaneous tissue'].append(ICD9_CODE)\n",
    "        elif 710 <= float(ICD9_CODE) < 740:\n",
    "            hierarchy2ICD9CODE['diseases of the musculoskeletal system and connective tissue'].append(ICD9_CODE)\n",
    "        elif 740 <= float(ICD9_CODE) < 760:\n",
    "            hierarchy2ICD9CODE['congenital anomalies'].append(ICD9_CODE)\n",
    "        elif 760 <= float(ICD9_CODE) < 780:\n",
    "            hierarchy2ICD9CODE['certain conditions originating in the perinatal period'].append(ICD9_CODE)\n",
    "        elif 780 <= float(ICD9_CODE) < 800:\n",
    "            hierarchy2ICD9CODE['symptoms, signs, and ill-defined conditions'].append(ICD9_CODE)\n",
    "        elif 800 <= float(ICD9_CODE) < 1000:\n",
    "            hierarchy2ICD9CODE['injury and poisoning'].append(ICD9_CODE)\n",
    "        else:\n",
    "            print('anomaly code {}'.format(ICD9_CODE))\n",
    "            break\n",
    "            \n",
    "            \n",
    "ICD9CODE2hierarchy = {}\n",
    "for hier, ICD9_CODES in hierarchy2ICD9CODE.items():\n",
    "    for ICD9_CODE in ICD9_CODES:\n",
    "        ICD9CODE2hierarchy[ICD9_CODE] = hier\n",
    "\n",
    "with open(os.path.join(save_path, 'p2hier.json'), 'w') as f:\n",
    "    json.dump(ICD9CODE2hierarchy, f, indent=4)\n",
    "    \n",
    "with open(os.path.join(save_path, 'hier2p.json'), 'w') as f:\n",
    "    json.dump(hierarchy2ICD9CODE, f, indent=4)"
   ]
  },
  {
   "cell_type": "markdown",
   "id": "e1943764",
   "metadata": {},
   "source": [
    "### generate pretrained embedding\n",
    "\n",
    "this is to reproduce SOTA (ZAGCNN).\n",
    "\n",
    "**you need to download the BioWordVec_PubMed_MIMICIII_d200.vec.bin to run the following codes**"
   ]
  },
  {
   "cell_type": "code",
   "execution_count": 9,
   "id": "ddae83ec",
   "metadata": {},
   "outputs": [
    {
     "name": "stderr",
     "output_type": "stream",
     "text": [
      "[nltk_data] Downloading package stopwords to /home/xueren/nltk_data...\n",
      "[nltk_data]   Package stopwords is already up-to-date!\n"
     ]
    }
   ],
   "source": [
    "from gensim.models.keyedvectors import KeyedVectors\n",
    "import nltk\n",
    "import re\n",
    "import pickle\n",
    "import json\n",
    "import numpy as np\n",
    "from tqdm import tqdm\n",
    "nltk.download('stopwords')\n",
    "from nltk.corpus import stopwords\n",
    "cahcedStopwords = stopwords.words('english')\n",
    "from nltk.tokenize import word_tokenize\n",
    "from collections import defaultdict\n",
    "\n",
    "def getEmbedding(entity, desc, model):\n",
    "    embed_dict = {}\n",
    "    no_embed_list = []\n",
    "    for each in tqdm(entity):\n",
    "        if each in desc:\n",
    "            entity = desc[each].lower()\n",
    "        else:\n",
    "            entity = each\n",
    "#             print(e)\n",
    "        tokenized_word = word_tokenize(entity)\n",
    "        tmp_list = []\n",
    "        for w in tokenized_word:\n",
    "            if w not in model:\n",
    "                continue\n",
    "            embedding = model[w]\n",
    "            tmp_list.append(embedding)\n",
    "        if tmp_list:\n",
    "            embed = np.mean(np.array(tmp_list), axis=0).tolist()\n",
    "            embed_dict[each] = embed\n",
    "        else:\n",
    "            embed_dict[each] = model['unk']\n",
    "            no_embed_list.append(each)\n",
    "    print(no_embed_list, len(no_embed_list))\n",
    "    return embed_dict"
   ]
  },
  {
   "cell_type": "code",
   "execution_count": 3,
   "id": "4993b964",
   "metadata": {},
   "outputs": [],
   "source": [
    "### your root to BioWordVec_PubMed_MIMICIII_d200.vec.bin ###\n",
    "pretrain_wv = 'your root/BioWordVec_PubMed_MIMICIII_d200.vec.bin'\n",
    "model = KeyedVectors.load_word2vec_format(pretrain_wv, binary=True)"
   ]
  },
  {
   "cell_type": "code",
   "execution_count": 10,
   "id": "1786a485",
   "metadata": {},
   "outputs": [
    {
     "name": "stdout",
     "output_type": "stream",
     "text": [
      "generating embedding for icd9 disease codes\n"
     ]
    },
    {
     "name": "stderr",
     "output_type": "stream",
     "text": [
      "100%|████████████████████████████████████████████████| 6687/6687 [00:00<00:00, 12340.68it/s]"
     ]
    },
    {
     "name": "stdout",
     "output_type": "stream",
     "text": [
      "['V44.51'] 1\n"
     ]
    },
    {
     "name": "stderr",
     "output_type": "stream",
     "text": [
      "\n"
     ]
    }
   ],
   "source": [
    "print(\"generating embedding for icd9 disease codes\")\n",
    "\n",
    "\n",
    "desc = ['international statistical classification of diseases and related health problems']\n",
    "\n",
    "with open(\"../dataset/MIMIC3/hier2p.json\", 'r') as f:\n",
    "    hier2p = json.load(f)\n",
    "\n",
    "with open(\"../dataset/MIMIC3/ICD9CODES.json\", 'r') as f:\n",
    "    desc_dict = json.load(f)\n",
    "label = list(desc_dict.keys())\n",
    "\n",
    "    \n",
    "hier = list(set(list(hier2p.keys())))\n",
    "desc.extend(hier)\n",
    "desc.extend(label)\n",
    "\n",
    "disease_embed_dict = getEmbedding(desc, desc_dict, model)\n",
    "\n",
    "if not os.path.exists(\"./pre-trained embedding\"):\n",
    "    os.makedirs(\"./pre-trained embedding\")\n",
    "\n",
    "node_attr_cache = \"../pre-trained embedding/MIMIC3_label_embedding_BioWordVec_PubMed_MIMICIII_d200.npy\"\n",
    "np.save(node_attr_cache, disease_embed_dict)"
   ]
  },
  {
   "cell_type": "code",
   "execution_count": 11,
   "id": "96cb8e53",
   "metadata": {},
   "outputs": [
    {
     "data": {
      "text/plain": [
       "18"
      ]
     },
     "execution_count": 11,
     "metadata": {},
     "output_type": "execute_result"
    }
   ],
   "source": [
    "len(hier)"
   ]
  },
  {
   "cell_type": "code",
   "execution_count": null,
   "id": "e2fee649",
   "metadata": {},
   "outputs": [],
   "source": []
  }
 ],
 "metadata": {
  "kernelspec": {
   "display_name": "Python 3 (ipykernel)",
   "language": "python",
   "name": "python3"
  },
  "language_info": {
   "codemirror_mode": {
    "name": "ipython",
    "version": 3
   },
   "file_extension": ".py",
   "mimetype": "text/x-python",
   "name": "python",
   "nbconvert_exporter": "python",
   "pygments_lexer": "ipython3",
   "version": "3.10.6"
  }
 },
 "nbformat": 4,
 "nbformat_minor": 5
}
