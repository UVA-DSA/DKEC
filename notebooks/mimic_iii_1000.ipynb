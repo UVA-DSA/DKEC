{
 "cells": [
  {
   "cell_type": "code",
   "execution_count": 1,
   "id": "705ff3d5",
   "metadata": {},
   "outputs": [],
   "source": [
    "import os\n",
    "import numpy as np\n",
    "import json\n",
    "import pandas as pd\n",
    "from tqdm import tqdm\n",
    "from collections import defaultdict"
   ]
  },
  {
   "cell_type": "code",
   "execution_count": 2,
   "id": "c096dd9c",
   "metadata": {},
   "outputs": [],
   "source": [
    "#MIMIC_3_DIR: Specify your root of MIMIC3-1000\n",
    "MIMIC_3_DIR = '../dataset/MIMIC3-1000'\n",
    "\n",
    "if not os.path.exists(MIMIC_3_DIR):\n",
    "    os.makedirs(MIMIC_3_DIR)"
   ]
  },
  {
   "cell_type": "code",
   "execution_count": 3,
   "id": "71d85c1a",
   "metadata": {},
   "outputs": [],
   "source": [
    "with open(os.path.join(MIMIC_3_DIR, 'ICD9CODES.json'), 'r') as f:\n",
    "    label2desc = json.load(f)\n",
    "label = list(label2desc.keys())"
   ]
  },
  {
   "cell_type": "markdown",
   "id": "653b2dce",
   "metadata": {},
   "source": [
    "### filter mimic-iii dataset"
   ]
  },
  {
   "cell_type": "code",
   "execution_count": 4,
   "id": "6eafafcd",
   "metadata": {},
   "outputs": [],
   "source": [
    "path_6668 = MIMIC_3_DIR[:-5]\n",
    "\n",
    "train_df = pd.read_csv(os.path.join(path_6668, 'clean_train.csv'))\n",
    "val_df = pd.read_csv(os.path.join(path_6668, 'clean_val.csv'))\n",
    "test_df = pd.read_csv(os.path.join(path_6668, 'clean_test.csv'))"
   ]
  },
  {
   "cell_type": "code",
   "execution_count": 5,
   "id": "7f4a5454",
   "metadata": {},
   "outputs": [],
   "source": [
    "def clean_df(df, label_list):\n",
    "    df_ = []\n",
    "    for i in tqdm(range(len(df))):\n",
    "        sub_id = df['SUBJECT_ID'][i]\n",
    "        hadm_id = df['HADM_ID'][i]\n",
    "        text = df['TEXT'][i]\n",
    "        labels = df['LABELS'][i]\n",
    "        length = df['length'][i]\n",
    "        new_label = []\n",
    "        if not pd.isna(labels):\n",
    "            for l in labels.split(';'):\n",
    "                if l not in label_list:\n",
    "                    continue\n",
    "                else:\n",
    "                    new_label.append(l.strip())\n",
    "                string = ';'.join(new_label)\n",
    "        if new_label:\n",
    "            row = [sub_id, hadm_id, text, string, length]\n",
    "            df_.append(row)\n",
    "    return df_"
   ]
  },
  {
   "cell_type": "code",
   "execution_count": 6,
   "id": "727d4925",
   "metadata": {},
   "outputs": [
    {
     "name": "stderr",
     "output_type": "stream",
     "text": [
      "100%|████████████████████████████████████████████████████████| 47718/47718 [00:01<00:00, 28114.94it/s]\n",
      "100%|██████████████████████████████████████████████████████████| 1631/1631 [00:00<00:00, 24181.37it/s]\n",
      "100%|██████████████████████████████████████████████████████████| 3372/3372 [00:00<00:00, 24200.02it/s]\n"
     ]
    }
   ],
   "source": [
    "clean_train_list = clean_df(train_df, label)\n",
    "clean_val_list = clean_df(val_df, label)\n",
    "clean_test_list = clean_df(test_df, label)\n",
    "\n",
    "clean_train = pd.DataFrame(clean_train_list, columns=['SUBJECT_ID', 'HADM_ID', 'TEXT', 'LABELS', 'length'])\n",
    "clean_val = pd.DataFrame(clean_val_list, columns=['SUBJECT_ID', 'HADM_ID', 'TEXT', 'LABELS', 'length'])\n",
    "clean_test = pd.DataFrame(clean_test_list, columns=['SUBJECT_ID', 'HADM_ID', 'TEXT', 'LABELS', 'length'])\n",
    "\n",
    "clean_train.dropna(subset=['LABELS'], inplace=True)\n",
    "clean_train.reset_index(drop=True, inplace=True)\n",
    "clean_val.dropna(subset=['LABELS'], inplace=True)\n",
    "clean_val.reset_index(drop=True, inplace=True)\n",
    "clean_test.dropna(subset=['LABELS'], inplace=True)\n",
    "clean_test.reset_index(drop=True, inplace=True)"
   ]
  },
  {
   "cell_type": "markdown",
   "id": "ef0942d7",
   "metadata": {},
   "source": [
    "#### sanity check"
   ]
  },
  {
   "cell_type": "code",
   "execution_count": 7,
   "id": "1dbc3c01",
   "metadata": {},
   "outputs": [],
   "source": [
    "clean_label_dict = dict()\n",
    "\n",
    "for i in range(len(clean_train)):\n",
    "    labels = clean_train['LABELS'][i]\n",
    "    if not pd.isna(labels):\n",
    "        for l in labels.split(';'):\n",
    "            clean_label_dict[l] = clean_label_dict.get(l, 0) + 1\n",
    "    else:\n",
    "        print(i)\n",
    "        \n",
    "        \n",
    "for i in range(len(clean_val)):\n",
    "    labels = clean_val['LABELS'][i]\n",
    "    if not pd.isna(labels):\n",
    "        for l in labels.split(';'):\n",
    "            clean_label_dict[l] = clean_label_dict.get(l, 0) + 1\n",
    "    else:\n",
    "        print(i)\n",
    "        \n",
    "        \n",
    "for i in range(len(clean_test)):\n",
    "    labels = clean_test['LABELS'][i]\n",
    "    if not pd.isna(labels):\n",
    "        for l in labels.split(';'):\n",
    "            clean_label_dict[l] = clean_label_dict.get(l, 0) + 1\n",
    "    else:\n",
    "        print(i)\n",
    "        \n",
    "assert len(clean_label_dict.keys()) == len(label)"
   ]
  },
  {
   "cell_type": "code",
   "execution_count": 8,
   "id": "ccd9e7ab",
   "metadata": {},
   "outputs": [],
   "source": [
    "clean_train.to_csv(os.path.join(MIMIC_3_DIR, 'clean_train.csv'))\n",
    "clean_val.to_csv(os.path.join(MIMIC_3_DIR, 'clean_val.csv'))\n",
    "clean_test.to_csv(os.path.join(MIMIC_3_DIR, 'clean_test.csv'))"
   ]
  },
  {
   "cell_type": "markdown",
   "id": "95a8467f",
   "metadata": {},
   "source": [
    "### calculate icd9 code frequency"
   ]
  },
  {
   "cell_type": "code",
   "execution_count": 9,
   "id": "a20e7330",
   "metadata": {},
   "outputs": [],
   "source": [
    "df = pd.concat([clean_train, clean_val, clean_test]).reset_index(drop=True)"
   ]
  },
  {
   "cell_type": "code",
   "execution_count": 10,
   "id": "4b35018c",
   "metadata": {},
   "outputs": [],
   "source": [
    "def cnt_instance_per_label(df, column_name):\n",
    "    label_cnt = {}\n",
    "#     column_name = 'ICD9_DIAG'\n",
    "    for i in range(len(df)):\n",
    "        if type(df[column_name][i]) == float:\n",
    "            continue\n",
    "        ps = df[column_name][i].strip()\n",
    "        for p in ps.split(';'):\n",
    "            p = p.strip()\n",
    "            label_cnt[p] = label_cnt.get(p, 0) + 1\n",
    "    return label_cnt\n",
    "\n",
    "def sortBy(l1, l2, reverse=True):\n",
    "    x_axis, y_axis = [], []\n",
    "    if l1 and l2:\n",
    "        zipped = zip(l1, l2)\n",
    "        sort_zipped = sorted(zipped, key=lambda x:(x[1], x[0]), reverse=reverse)\n",
    "        result = zip(*sort_zipped)\n",
    "        x_axis, y_axis = [list(x) for x in result]\n",
    "    return x_axis, y_axis"
   ]
  },
  {
   "cell_type": "code",
   "execution_count": 11,
   "id": "41ab5a27",
   "metadata": {},
   "outputs": [],
   "source": [
    "label_cnt = cnt_instance_per_label(df, column_name='LABELS')\n",
    "total_num = list(label_cnt.values())\n",
    "ICD9CODE = list(label_cnt.keys())\n",
    "\n",
    "sort_ICD9CODE, sort_total_num = sortBy(ICD9CODE, total_num, reverse=True)\n",
    "\n",
    "sorted_label_cnt = {}\n",
    "for i in range(len(sort_ICD9CODE)):\n",
    "    code = sort_ICD9CODE[i]\n",
    "    num = sort_total_num[i]\n",
    "    sorted_label_cnt[code] = num\n",
    "\n",
    "with open(os.path.join(MIMIC_3_DIR, 'MIMIC3-1000_Label_cnt.json'), 'w') as f:\n",
    "    json.dump(sorted_label_cnt, f, indent=4)"
   ]
  },
  {
   "cell_type": "code",
   "execution_count": 12,
   "id": "e18d3744",
   "metadata": {},
   "outputs": [
    {
     "name": "stdout",
     "output_type": "stream",
     "text": [
      "avg number of labels in mimic-1000: 5.698040669763085\n"
     ]
    }
   ],
   "source": [
    "all_list_len = []\n",
    "for ls in df['LABELS']:\n",
    "    l_list = [l for l in ls.split(';')]\n",
    "    all_list_len.append(len(l_list))\n",
    "print(f\"avg number of labels in mimic-1000: {np.mean(all_list_len)}\")"
   ]
  },
  {
   "cell_type": "code",
   "execution_count": 13,
   "id": "c8443cb0",
   "metadata": {},
   "outputs": [],
   "source": [
    "from collections import defaultdict\n",
    "hierarchy2ICD9CODE = defaultdict(list)\n",
    "\n",
    "for ICD9_CODE, description in label2desc.items():\n",
    "    \n",
    "    if ICD9_CODE.startswith('E') or ICD9_CODE.startswith('V'):\n",
    "        hierarchy2ICD9CODE['external causes of injury and supplemental classification'].append(ICD9_CODE)\n",
    "    \n",
    "    else:\n",
    "        if 0 <= float(ICD9_CODE) < 140:\n",
    "            hierarchy2ICD9CODE['infectious and parasitic diseases'].append(ICD9_CODE)\n",
    "        elif 140 <= float(ICD9_CODE) < 240:\n",
    "            hierarchy2ICD9CODE['neoplasms'].append(ICD9_CODE)\n",
    "        elif 240 <= float(ICD9_CODE) < 280:\n",
    "            hierarchy2ICD9CODE['endocrine, nutritional and metabolic diseases, and immunity disorders'].append(ICD9_CODE)\n",
    "        elif 280 <= float(ICD9_CODE) < 290:\n",
    "            hierarchy2ICD9CODE['diseases of the blood and blood-forming organs'].append(ICD9_CODE)\n",
    "        elif 290 <= float(ICD9_CODE) < 320:\n",
    "            hierarchy2ICD9CODE['mental disorders'].append(ICD9_CODE)\n",
    "        elif 320 <= float(ICD9_CODE) < 390:\n",
    "            hierarchy2ICD9CODE['diseases of the nervous system and sense organs'].append(ICD9_CODE)\n",
    "        elif 390 <= float(ICD9_CODE) < 460:\n",
    "            hierarchy2ICD9CODE['diseases of the circulatory system'].append(ICD9_CODE)\n",
    "        elif 460 <= float(ICD9_CODE) < 520:\n",
    "            hierarchy2ICD9CODE['diseases of the respiratory system'].append(ICD9_CODE)\n",
    "        elif 520 <= float(ICD9_CODE) < 580:\n",
    "            hierarchy2ICD9CODE['diseases of the digestive system'].append(ICD9_CODE)\n",
    "        elif 580 <= float(ICD9_CODE) < 630:\n",
    "            hierarchy2ICD9CODE['diseases of the genitourinary system'].append(ICD9_CODE)\n",
    "        elif 630 <= float(ICD9_CODE) < 680:\n",
    "            hierarchy2ICD9CODE['complications of pregnancy, childbirth, and the puerperium'].append(ICD9_CODE)\n",
    "        elif 680 <= float(ICD9_CODE) < 710:\n",
    "            hierarchy2ICD9CODE['diseases of the skin and subcutaneous tissue'].append(ICD9_CODE)\n",
    "        elif 710 <= float(ICD9_CODE) < 740:\n",
    "            hierarchy2ICD9CODE['diseases of the musculoskeletal system and connective tissue'].append(ICD9_CODE)\n",
    "        elif 740 <= float(ICD9_CODE) < 760:\n",
    "            hierarchy2ICD9CODE['congenital anomalies'].append(ICD9_CODE)\n",
    "        elif 760 <= float(ICD9_CODE) < 780:\n",
    "            hierarchy2ICD9CODE['certain conditions originating in the perinatal period'].append(ICD9_CODE)\n",
    "        elif 780 <= float(ICD9_CODE) < 800:\n",
    "            hierarchy2ICD9CODE['symptoms, signs, and ill-defined conditions'].append(ICD9_CODE)\n",
    "        elif 800 <= float(ICD9_CODE) < 1000:\n",
    "            hierarchy2ICD9CODE['injury and poisoning'].append(ICD9_CODE)\n",
    "        else:\n",
    "            print('anomaly code {}'.format(ICD9_CODE))\n",
    "            break\n",
    "            \n",
    "            \n",
    "ICD9CODE2hierarchy = {}\n",
    "for hier, ICD9_CODES in hierarchy2ICD9CODE.items():\n",
    "    for ICD9_CODE in ICD9_CODES:\n",
    "        ICD9CODE2hierarchy[ICD9_CODE] = hier\n",
    "\n",
    "with open(os.path.join(MIMIC_3_DIR, 'p2hier.json'), 'w') as f:\n",
    "    json.dump(ICD9CODE2hierarchy, f, indent=4)\n",
    "    \n",
    "with open(os.path.join(MIMIC_3_DIR, 'hier2p.json'), 'w') as f:\n",
    "    json.dump(hierarchy2ICD9CODE, f, indent=4)"
   ]
  },
  {
   "cell_type": "code",
   "execution_count": 14,
   "id": "a7678cb3",
   "metadata": {},
   "outputs": [
    {
     "data": {
      "text/plain": [
       "17"
      ]
     },
     "execution_count": 14,
     "metadata": {},
     "output_type": "execute_result"
    }
   ],
   "source": [
    "len(hierarchy2ICD9CODE.keys())"
   ]
  },
  {
   "cell_type": "code",
   "execution_count": null,
   "id": "206b2b6d",
   "metadata": {},
   "outputs": [],
   "source": []
  }
 ],
 "metadata": {
  "kernelspec": {
   "display_name": "Python 3 (ipykernel)",
   "language": "python",
   "name": "python3"
  },
  "language_info": {
   "codemirror_mode": {
    "name": "ipython",
    "version": 3
   },
   "file_extension": ".py",
   "mimetype": "text/x-python",
   "name": "python",
   "nbconvert_exporter": "python",
   "pygments_lexer": "ipython3",
   "version": "3.10.6"
  }
 },
 "nbformat": 4,
 "nbformat_minor": 5
}
